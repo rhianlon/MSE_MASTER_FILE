{
 "cells": [
  {
   "cell_type": "code",
   "execution_count": 1,
   "id": "1e902f01-f7e8-4f72-bde8-5134a41efd9f",
   "metadata": {},
   "outputs": [],
   "source": [
    "# Import\n",
    "import pandas as pd\n",
    "import matplotlib.pyplot as plt\n",
    "import seaborn as sns\n",
    "import numpy as np\n",
    "\n",
    "# Customize plots\n",
    "%matplotlib inline\n",
    "sns.set_theme(style=\"white\")\n",
    "plt.style.use('grayscale')"
   ]
  },
  {
   "cell_type": "code",
   "execution_count": 2,
   "id": "c6303b26-e21b-49f5-88f2-b5fdee3f577d",
   "metadata": {},
   "outputs": [],
   "source": [
    "# Import additional libraries\n",
    "# data splitting\n",
    "from sklearn.model_selection import train_test_split\n",
    "# performance measures\n",
    "from sklearn.metrics import roc_curve, roc_auc_score\n",
    "from sklearn.metrics import precision_recall_curve\n",
    "from sklearn.metrics import confusion_matrix,f1_score,precision_score,recall_score,accuracy_score,average_precision_score\n",
    "# classifier\n",
    "from sklearn.neighbors import KNeighborsClassifier"
   ]
  },
  {
   "cell_type": "markdown",
   "id": "e44aae27-f323-40a4-91b2-4d19780dbe44",
   "metadata": {},
   "source": [
    "### 1. Load Data"
   ]
  },
  {
   "cell_type": "code",
   "execution_count": 8,
   "id": "8be02dd9-6013-4e37-af07-e6aeeeb626c5",
   "metadata": {},
   "outputs": [],
   "source": [
    "df = pd.read_csv('../../Ex02/DiabetesDataset.csv')"
   ]
  },
  {
   "cell_type": "markdown",
   "id": "7a982ee2-8ec9-4c02-9657-2170b889f32e",
   "metadata": {},
   "source": [
    "### 2. kNN Model - Splitting Table into Data and extra y label column"
   ]
  },
  {
   "cell_type": "code",
   "execution_count": 10,
   "id": "dd77b6d4-e617-4b14-b6fb-9a5cd53ee4f1",
   "metadata": {},
   "outputs": [
    {
     "data": {
      "text/html": [
       "<div>\n",
       "<style scoped>\n",
       "    .dataframe tbody tr th:only-of-type {\n",
       "        vertical-align: middle;\n",
       "    }\n",
       "\n",
       "    .dataframe tbody tr th {\n",
       "        vertical-align: top;\n",
       "    }\n",
       "\n",
       "    .dataframe thead th {\n",
       "        text-align: right;\n",
       "    }\n",
       "</style>\n",
       "<table border=\"1\" class=\"dataframe\">\n",
       "  <thead>\n",
       "    <tr style=\"text-align: right;\">\n",
       "      <th></th>\n",
       "      <th>Pregnancies</th>\n",
       "      <th>Glucose</th>\n",
       "      <th>BloodPressure</th>\n",
       "      <th>SkinThickness</th>\n",
       "      <th>Insulin</th>\n",
       "      <th>BMI</th>\n",
       "      <th>DiabetesPedigreeFunction</th>\n",
       "      <th>Age</th>\n",
       "    </tr>\n",
       "  </thead>\n",
       "  <tbody>\n",
       "    <tr>\n",
       "      <th>0</th>\n",
       "      <td>6</td>\n",
       "      <td>148</td>\n",
       "      <td>72</td>\n",
       "      <td>35</td>\n",
       "      <td>0</td>\n",
       "      <td>33.6</td>\n",
       "      <td>0.627</td>\n",
       "      <td>50</td>\n",
       "    </tr>\n",
       "    <tr>\n",
       "      <th>1</th>\n",
       "      <td>1</td>\n",
       "      <td>85</td>\n",
       "      <td>66</td>\n",
       "      <td>29</td>\n",
       "      <td>0</td>\n",
       "      <td>26.6</td>\n",
       "      <td>0.351</td>\n",
       "      <td>31</td>\n",
       "    </tr>\n",
       "    <tr>\n",
       "      <th>2</th>\n",
       "      <td>8</td>\n",
       "      <td>183</td>\n",
       "      <td>64</td>\n",
       "      <td>0</td>\n",
       "      <td>0</td>\n",
       "      <td>23.3</td>\n",
       "      <td>0.672</td>\n",
       "      <td>32</td>\n",
       "    </tr>\n",
       "    <tr>\n",
       "      <th>3</th>\n",
       "      <td>1</td>\n",
       "      <td>89</td>\n",
       "      <td>66</td>\n",
       "      <td>23</td>\n",
       "      <td>94</td>\n",
       "      <td>28.1</td>\n",
       "      <td>0.167</td>\n",
       "      <td>21</td>\n",
       "    </tr>\n",
       "    <tr>\n",
       "      <th>4</th>\n",
       "      <td>0</td>\n",
       "      <td>137</td>\n",
       "      <td>40</td>\n",
       "      <td>35</td>\n",
       "      <td>168</td>\n",
       "      <td>43.1</td>\n",
       "      <td>2.288</td>\n",
       "      <td>33</td>\n",
       "    </tr>\n",
       "    <tr>\n",
       "      <th>...</th>\n",
       "      <td>...</td>\n",
       "      <td>...</td>\n",
       "      <td>...</td>\n",
       "      <td>...</td>\n",
       "      <td>...</td>\n",
       "      <td>...</td>\n",
       "      <td>...</td>\n",
       "      <td>...</td>\n",
       "    </tr>\n",
       "    <tr>\n",
       "      <th>763</th>\n",
       "      <td>10</td>\n",
       "      <td>101</td>\n",
       "      <td>76</td>\n",
       "      <td>48</td>\n",
       "      <td>180</td>\n",
       "      <td>32.9</td>\n",
       "      <td>0.171</td>\n",
       "      <td>63</td>\n",
       "    </tr>\n",
       "    <tr>\n",
       "      <th>764</th>\n",
       "      <td>2</td>\n",
       "      <td>122</td>\n",
       "      <td>70</td>\n",
       "      <td>27</td>\n",
       "      <td>0</td>\n",
       "      <td>36.8</td>\n",
       "      <td>0.340</td>\n",
       "      <td>27</td>\n",
       "    </tr>\n",
       "    <tr>\n",
       "      <th>765</th>\n",
       "      <td>5</td>\n",
       "      <td>121</td>\n",
       "      <td>72</td>\n",
       "      <td>23</td>\n",
       "      <td>112</td>\n",
       "      <td>26.2</td>\n",
       "      <td>0.245</td>\n",
       "      <td>30</td>\n",
       "    </tr>\n",
       "    <tr>\n",
       "      <th>766</th>\n",
       "      <td>1</td>\n",
       "      <td>126</td>\n",
       "      <td>60</td>\n",
       "      <td>0</td>\n",
       "      <td>0</td>\n",
       "      <td>30.1</td>\n",
       "      <td>0.349</td>\n",
       "      <td>47</td>\n",
       "    </tr>\n",
       "    <tr>\n",
       "      <th>767</th>\n",
       "      <td>1</td>\n",
       "      <td>93</td>\n",
       "      <td>70</td>\n",
       "      <td>31</td>\n",
       "      <td>0</td>\n",
       "      <td>30.4</td>\n",
       "      <td>0.315</td>\n",
       "      <td>23</td>\n",
       "    </tr>\n",
       "  </tbody>\n",
       "</table>\n",
       "<p>768 rows × 8 columns</p>\n",
       "</div>"
      ],
      "text/plain": [
       "     Pregnancies  Glucose  BloodPressure  SkinThickness  Insulin   BMI  \\\n",
       "0              6      148             72             35        0  33.6   \n",
       "1              1       85             66             29        0  26.6   \n",
       "2              8      183             64              0        0  23.3   \n",
       "3              1       89             66             23       94  28.1   \n",
       "4              0      137             40             35      168  43.1   \n",
       "..           ...      ...            ...            ...      ...   ...   \n",
       "763           10      101             76             48      180  32.9   \n",
       "764            2      122             70             27        0  36.8   \n",
       "765            5      121             72             23      112  26.2   \n",
       "766            1      126             60              0        0  30.1   \n",
       "767            1       93             70             31        0  30.4   \n",
       "\n",
       "     DiabetesPedigreeFunction  Age  \n",
       "0                       0.627   50  \n",
       "1                       0.351   31  \n",
       "2                       0.672   32  \n",
       "3                       0.167   21  \n",
       "4                       2.288   33  \n",
       "..                        ...  ...  \n",
       "763                     0.171   63  \n",
       "764                     0.340   27  \n",
       "765                     0.245   30  \n",
       "766                     0.349   47  \n",
       "767                     0.315   23  \n",
       "\n",
       "[768 rows x 8 columns]"
      ]
     },
     "execution_count": 10,
     "metadata": {},
     "output_type": "execute_result"
    }
   ],
   "source": [
    "x = df.drop(columns=['Diabetes'])\n",
    "y = df['Diabetes'].values\n",
    "labels = [\"No Diabetes\", \"Diabetes\"]\n"
   ]
  },
  {
   "cell_type": "markdown",
   "id": "471ed53e-abc0-4cac-ba20-99968314dedf",
   "metadata": {},
   "source": [
    "### 2.1 Splitting for Training and Test "
   ]
  },
  {
   "cell_type": "code",
   "execution_count": 11,
   "id": "76003d38-462f-4603-94bd-f95dcb270e55",
   "metadata": {},
   "outputs": [],
   "source": [
    "trainX, testX, trainy, testy = train_test_split(x, y, test_size=0.2)"
   ]
  },
  {
   "cell_type": "markdown",
   "id": "911e9202-ae4a-47db-8656-e6c61b4e6b3b",
   "metadata": {
    "tags": []
   },
   "source": [
    "### 2.2 Fit Model "
   ]
  },
  {
   "cell_type": "code",
   "execution_count": 12,
   "id": "5bdcf3ef-0312-409d-b287-215b4af6e790",
   "metadata": {},
   "outputs": [],
   "source": [
    "model =  KNeighborsClassifier(n_neighbors=5).fit(trainX, trainy)"
   ]
  },
  {
   "cell_type": "markdown",
   "id": "d14af9ba-9ed9-47ec-bf5b-8b81f78cd03e",
   "metadata": {
    "tags": []
   },
   "source": [
    "### 2.3 Predict the labels"
   ]
  },
  {
   "cell_type": "code",
   "execution_count": 16,
   "id": "a6316c93-efdc-409a-9b5d-53d91f2f45c3",
   "metadata": {},
   "outputs": [],
   "source": [
    "y_predicted = model.predict(testX)\n"
   ]
  },
  {
   "cell_type": "markdown",
   "id": "9de90cbe-68b1-48b3-8782-79b5614e81d8",
   "metadata": {
    "tags": []
   },
   "source": [
    "## 3. Performance Measures"
   ]
  },
  {
   "cell_type": "markdown",
   "id": "0b8d9b38-a303-4c52-9d85-b84279604da7",
   "metadata": {
    "tags": []
   },
   "source": [
    "### 3.1 Confusion Matrix"
   ]
  },
  {
   "cell_type": "code",
   "execution_count": 18,
   "id": "dcd1f8ae-05fd-45d5-8748-ac6b2c216bc4",
   "metadata": {},
   "outputs": [
    {
     "data": {
      "image/png": "[encoded data removed]",
      "text/plain": [
       "<Figure size 640x480 with 1 Axes>"
      ]
     },
     "metadata": {},
     "output_type": "display_data"
    }
   ],
   "source": [
    "from sklearn.metrics import confusion_matrix\n",
    "\n",
    "confusion_matrix = confusion_matrix(testy, y_predicted)\n",
    "\n",
    "sns.heatmap(confusion_matrix, \n",
    "            annot=True, \n",
    "            fmt='d', \n",
    "            cbar=False, \n",
    "            cmap=\"coolwarm_r\",\n",
    "            xticklabels=labels, \n",
    "            yticklabels=labels,\n",
    "            linewidth = 1)\n",
    "plt.title(\"Confusion Matrix\")\n",
    "plt.xlabel('Predicted Label')\n",
    "plt.ylabel('True Label')\n",
    "plt.show()\n"
   ]
  },
  {
   "cell_type": "markdown",
   "id": "444cdda8-a101-43d2-a06f-5046b6f6d6d4",
   "metadata": {
    "tags": []
   },
   "source": [
    "### 3.2 Accuracy"
   ]
  },
  {
   "cell_type": "markdown",
   "id": "cf9de139-85d6-4aa2-8b5e-47b7d078537d",
   "metadata": {
    "tags": []
   },
   "source": [
    "### 3.3 Recall"
   ]
  },
  {
   "cell_type": "markdown",
   "id": "54a3b7f9-1faf-465c-a26f-b284b7c31579",
   "metadata": {
    "tags": []
   },
   "source": [
    "### 3.4 Precision"
   ]
  },
  {
   "cell_type": "markdown",
   "id": "aa5b449f-e9ad-4c78-81f5-3f9ebb9bedeb",
   "metadata": {
    "tags": []
   },
   "source": [
    "### 3.5 F1 Score"
   ]
  },
  {
   "cell_type": "code",
   "execution_count": null,
   "id": "3a1f694b-164e-4c0a-8870-734175acec06",
   "metadata": {},
   "outputs": [],
   "source": []
  }
 ],
 "metadata": {
  "kernelspec": {
   "display_name": "Python 3 (ipykernel)",
   "language": "python",
   "name": "python3"
  },
  "language_info": {
   "codemirror_mode": {
    "name": "ipython",
    "version": 3
   },
   "file_extension": ".py",
   "mimetype": "text/x-python",
   "name": "python",
   "nbconvert_exporter": "python",
   "pygments_lexer": "ipython3",
   "version": "3.10.6"
  }
 },
 "nbformat": 4,
 "nbformat_minor": 5
}
