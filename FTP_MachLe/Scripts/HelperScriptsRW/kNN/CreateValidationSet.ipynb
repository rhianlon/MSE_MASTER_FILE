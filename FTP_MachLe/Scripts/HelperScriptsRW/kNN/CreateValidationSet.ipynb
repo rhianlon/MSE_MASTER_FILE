{
 "cells": [
  {
   "cell_type": "code",
   "execution_count": 1,
   "id": "b038600b-5ac5-4b07-87d5-02cd7f7b7962",
   "metadata": {},
   "outputs": [],
   "source": [
    "import seaborn as sns\n",
    "import pandas as pd\n",
    "import matplotlib.pyplot as plt\n",
    "from sklearn.model_selection import train_test_split\n",
    "from sklearn.preprocessing import StandardScaler\n",
    "from sklearn.metrics import confusion_matrix\n",
    "import numpy as np\n",
    "np.random.seed(1)\n",
    "%matplotlib inline"
   ]
  },
  {
   "cell_type": "code",
   "execution_count": 3,
   "id": "c8f3367f-786c-4c81-8b0b-f4284d00cdd1",
   "metadata": {},
   "outputs": [
    {
     "name": "stdout",
     "output_type": "stream",
     "text": [
      "Training Set Size: 691\n",
      "Test Set Size: 77\n"
     ]
    }
   ],
   "source": [
    "# get data\n",
    "df = pd.read_csv('../../Ex03/Exercise3/DiabetesDataset.csv')\n",
    "# keep the patient characteristics as inputs X and the diabetes as target y\n",
    "X = df.drop(columns=['Diabetes'])\n",
    "y = df['Diabetes'].values\n",
    "\n",
    "#split dataset into train and test data\n",
    "X_train, X_test, y_train, y_test = train_test_split(X, y, test_size=0.1, random_state=1)\n",
    "\n",
    "# check out the size of the training and test datasets\n",
    "print (\"Training Set Size:\", len(X_train))\n",
    "print (\"Test Set Size:\", len(X_test))"
   ]
  },
  {
   "cell_type": "markdown",
   "id": "6d33be66-eb1e-44ce-aa99-631da5e14f58",
   "metadata": {},
   "source": [
    "### Create Validation Set - Validation set gets created from Training Set "
   ]
  },
  {
   "cell_type": "code",
   "execution_count": 4,
   "id": "c0c25025-05a4-4386-92e0-7492a84d0ac9",
   "metadata": {},
   "outputs": [
    {
     "name": "stdout",
     "output_type": "stream",
     "text": [
      "Training Set Size: 552\n",
      "Validation Set Size: 139\n",
      "Test Set Size: 77\n"
     ]
    }
   ],
   "source": [
    "X_train_val, X_val, y_train_val, y_val = train_test_split(X_train, y_train, test_size=0.2, random_state=1)\n",
    "\n",
    "print (\"Training Set Size:\", len(X_train_val))\n",
    "print (\"Validation Set Size:\", len(X_val))\n",
    "print (\"Test Set Size:\", len(X_test))"
   ]
  },
  {
   "cell_type": "code",
   "execution_count": null,
   "id": "8d48e744-b03c-45ea-bdcd-599823135efc",
   "metadata": {},
   "outputs": [],
   "source": []
  }
 ],
 "metadata": {
  "kernelspec": {
   "display_name": "Python 3 (ipykernel)",
   "language": "python",
   "name": "python3"
  },
  "language_info": {
   "codemirror_mode": {
    "name": "ipython",
    "version": 3
   },
   "file_extension": ".py",
   "mimetype": "text/x-python",
   "name": "python",
   "nbconvert_exporter": "python",
   "pygments_lexer": "ipython3",
   "version": "3.10.6"
  }
 },
 "nbformat": 4,
 "nbformat_minor": 5
}
