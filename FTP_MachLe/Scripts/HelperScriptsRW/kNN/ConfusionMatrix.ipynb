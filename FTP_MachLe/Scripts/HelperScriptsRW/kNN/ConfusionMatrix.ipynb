{
 "cells": [
  {
   "cell_type": "code",
   "execution_count": 2,
   "id": "298f8cad-6a43-4f03-bdce-1fd42df81a15",
   "metadata": {},
   "outputs": [],
   "source": [
    "# Import\n",
    "import pandas as pd\n",
    "import matplotlib.pyplot as plt\n",
    "import seaborn as sns\n",
    "import numpy as np\n",
    "\n",
    "# Customize plots\n",
    "%matplotlib inline\n",
    "sns.set_theme(style=\"white\")\n",
    "plt.style.use('grayscale')"
   ]
  },
  {
   "cell_type": "code",
   "execution_count": 7,
   "id": "8f715021-96f5-4e9b-a95a-e8ab64807bae",
   "metadata": {},
   "outputs": [
    {
     "data": {
      "text/html": [
       "<div>\n",
       "<style scoped>\n",
       "    .dataframe tbody tr th:only-of-type {\n",
       "        vertical-align: middle;\n",
       "    }\n",
       "\n",
       "    .dataframe tbody tr th {\n",
       "        vertical-align: top;\n",
       "    }\n",
       "\n",
       "    .dataframe thead th {\n",
       "        text-align: right;\n",
       "    }\n",
       "</style>\n",
       "<table border=\"1\" class=\"dataframe\">\n",
       "  <thead>\n",
       "    <tr style=\"text-align: right;\">\n",
       "      <th></th>\n",
       "      <th>name</th>\n",
       "      <th>x1</th>\n",
       "      <th>x2</th>\n",
       "    </tr>\n",
       "  </thead>\n",
       "  <tbody>\n",
       "    <tr>\n",
       "      <th>0</th>\n",
       "      <td>p1</td>\n",
       "      <td>0.15</td>\n",
       "      <td>0.35</td>\n",
       "    </tr>\n",
       "    <tr>\n",
       "      <th>1</th>\n",
       "      <td>p2</td>\n",
       "      <td>0.75</td>\n",
       "      <td>0.80</td>\n",
       "    </tr>\n",
       "    <tr>\n",
       "      <th>2</th>\n",
       "      <td>p3</td>\n",
       "      <td>0.50</td>\n",
       "      <td>0.60</td>\n",
       "    </tr>\n",
       "  </tbody>\n",
       "</table>\n",
       "</div>"
      ],
      "text/plain": [
       "  name    x1    x2\n",
       "0   p1  0.15  0.35\n",
       "1   p2  0.75  0.80\n",
       "2   p3  0.50  0.60"
      ]
     },
     "execution_count": 7,
     "metadata": {},
     "output_type": "execute_result"
    }
   ],
   "source": [
    "data = {\"x1\":[0, 0.4, 0.15, 0.05, 0.4, 0.20, 0, 0.45, 1, 0.85, 0.9, 0.7, 0.65, 0.95, 1, 0.8],\n",
    "\"x2\":[0.2, 0.35, 0, 0.10, 0.4, 0.25, 0.40, 0.35, 0.85, 0.95, 1, 0.65, 0.75, 0.9, 0.9, 0.95],\n",
    "\"y\":[0, 0, 0, 0, 0, 0, 0, 0, 1, 1, 1, 1, 1, 1, 1, 1]}\n",
    "\n",
    "data = pd.DataFrame(data)\n",
    "\n",
    "p = pd.DataFrame({\"name\":[\"p1\", \"p2\", \"p3\"], \"x1\":[0.15, 0.75, 0.5],\n",
    "\"x2\":[0.35, 0.8, 0.6]})\n",
    "p"
   ]
  },
  {
   "cell_type": "markdown",
   "id": "c852c6a1-7e8b-4186-ab45-291370c73b31",
   "metadata": {},
   "source": [
    "### Apply kNN "
   ]
  },
  {
   "cell_type": "code",
   "execution_count": 4,
   "id": "c6f8efcf-afbb-421c-bf19-1dd538a09c31",
   "metadata": {},
   "outputs": [],
   "source": [
    "from sklearn.neighbors import KNeighborsClassifier\n",
    "X = data[[\"x1\", \"x2\"]]\n",
    "y = data[\"y\"]\n",
    "knn_model = KNeighborsClassifier()\n",
    "knn_model.fit(X, y)\n",
    "y_predicted = knn_model.predict(X)"
   ]
  },
  {
   "cell_type": "markdown",
   "id": "08a0fabf-ccfc-4b76-82fa-725067883153",
   "metadata": {},
   "source": [
    "### Confusion Matrix"
   ]
  },
  {
   "cell_type": "code",
   "execution_count": 10,
   "id": "04280f3c-e9c7-4858-8d66-d09a6ce221b5",
   "metadata": {},
   "outputs": [],
   "source": [
    "from sklearn.metrics import confusion_matrix"
   ]
  },
  {
   "cell_type": "markdown",
   "id": "c800855f-3508-456a-b823-fa708e62c8d6",
   "metadata": {},
   "source": [
    "#### 1. Create confusion matrix with real labels and predicted label on training data"
   ]
  },
  {
   "cell_type": "code",
   "execution_count": 12,
   "id": "1f0a43d4-c92d-497f-be5a-05bee2ff359a",
   "metadata": {},
   "outputs": [],
   "source": [
    "confusion_matrix = confusion_matrix(y, y_predicted)"
   ]
  },
  {
   "cell_type": "markdown",
   "id": "feaf7bd0-acd7-4523-9ac1-cc21dffddf4a",
   "metadata": {},
   "source": [
    "sklearn.metrics.confusion_matrix(y_true, y_pred, *, labels=None, sample_weight=None, normalize=None)[source]"
   ]
  },
  {
   "cell_type": "markdown",
   "id": "f15d699e-a877-4613-9e8c-1a690691aad3",
   "metadata": {},
   "source": [
    "#### 2. Display confusinon matrix with a heatmap"
   ]
  },
  {
   "cell_type": "code",
   "execution_count": 17,
   "id": "307f4759-2d35-4685-8154-c3cdf2cf4193",
   "metadata": {},
   "outputs": [
    {
     "data": {
      "image/png": "[encoded data removed]",
      "text/plain": [
       "<Figure size 640x480 with 1 Axes>"
      ]
     },
     "metadata": {},
     "output_type": "display_data"
    }
   ],
   "source": [
    "labels = [\"Class 1\", \"Class 2\"]\n",
    "sns.heatmap(confusion_matrix, \n",
    "            annot=True, \n",
    "            fmt='d', \n",
    "            cbar=False, \n",
    "            cmap=\"coolwarm_r\",\n",
    "            xticklabels=labels, \n",
    "            yticklabels=labels,\n",
    "            linewidth = 1)\n",
    "plt.title(\"Confusion Matrix\")\n",
    "plt.xlabel('Predicted Label')\n",
    "plt.ylabel('True Label')\n",
    "plt.show()"
   ]
  }
 ],
 "metadata": {
  "kernelspec": {
   "display_name": "Python 3 (ipykernel)",
   "language": "python",
   "name": "python3"
  },
  "language_info": {
   "codemirror_mode": {
    "name": "ipython",
    "version": 3
   },
   "file_extension": ".py",
   "mimetype": "text/x-python",
   "name": "python",
   "nbconvert_exporter": "python",
   "pygments_lexer": "ipython3",
   "version": "3.10.6"
  }
 },
 "nbformat": 4,
 "nbformat_minor": 5
}
