{
 "cells": [
  {
   "cell_type": "code",
   "execution_count": 1,
   "id": "1e902f01-f7e8-4f72-bde8-5134a41efd9f",
   "metadata": {},
   "outputs": [],
   "source": [
    "# Import\n",
    "import pandas as pd\n",
    "import matplotlib.pyplot as plt\n",
    "import seaborn as sns\n",
    "import numpy as np\n",
    "\n",
    "# Customize plots\n",
    "%matplotlib inline\n",
    "sns.set_theme(style=\"white\")\n",
    "plt.style.use('grayscale')"
   ]
  },
  {
   "cell_type": "code",
   "execution_count": 2,
   "id": "c6303b26-e21b-49f5-88f2-b5fdee3f577d",
   "metadata": {},
   "outputs": [],
   "source": [
    "# Import additional libraries\n",
    "# data splitting\n",
    "from sklearn.model_selection import train_test_split\n",
    "# performance measures\n",
    "from sklearn.metrics import roc_curve, roc_auc_score\n",
    "from sklearn.metrics import precision_recall_curve\n",
    "from sklearn.metrics import confusion_matrix,f1_score,precision_score,recall_score,accuracy_score,average_precision_score\n",
    "# classifier\n",
    "from sklearn.neighbors import KNeighborsClassifier"
   ]
  },
  {
   "cell_type": "markdown",
   "id": "e44aae27-f323-40a4-91b2-4d19780dbe44",
   "metadata": {},
   "source": [
    "### 1. Load Data"
   ]
  },
  {
   "cell_type": "code",
   "execution_count": 3,
   "id": "8be02dd9-6013-4e37-af07-e6aeeeb626c5",
   "metadata": {},
   "outputs": [],
   "source": [
    "df = pd.read_csv('../../Ex02/DiabetesDataset.csv')"
   ]
  },
  {
   "cell_type": "markdown",
   "id": "7a982ee2-8ec9-4c02-9657-2170b889f32e",
   "metadata": {},
   "source": [
    "### 2. kNN Model - Splitting Table into Data and extra y label column"
   ]
  },
  {
   "cell_type": "code",
   "execution_count": 4,
   "id": "dd77b6d4-e617-4b14-b6fb-9a5cd53ee4f1",
   "metadata": {},
   "outputs": [],
   "source": [
    "x = df.drop(columns=['Diabetes'])\n",
    "y = df['Diabetes'].values\n",
    "labels = [\"No Diabetes\", \"Diabetes\"]\n"
   ]
  },
  {
   "cell_type": "markdown",
   "id": "471ed53e-abc0-4cac-ba20-99968314dedf",
   "metadata": {},
   "source": [
    "### 2.1 Splitting for Training and Test "
   ]
  },
  {
   "cell_type": "code",
   "execution_count": 5,
   "id": "76003d38-462f-4603-94bd-f95dcb270e55",
   "metadata": {},
   "outputs": [],
   "source": [
    "trainX, testX, trainy, testy = train_test_split(x, y, test_size=0.2)"
   ]
  },
  {
   "cell_type": "markdown",
   "id": "911e9202-ae4a-47db-8656-e6c61b4e6b3b",
   "metadata": {
    "tags": []
   },
   "source": [
    "### 2.2 Fit Model "
   ]
  },
  {
   "cell_type": "code",
   "execution_count": 6,
   "id": "5bdcf3ef-0312-409d-b287-215b4af6e790",
   "metadata": {},
   "outputs": [],
   "source": [
    "model =  KNeighborsClassifier(n_neighbors=5).fit(trainX, trainy)"
   ]
  },
  {
   "cell_type": "markdown",
   "id": "d14af9ba-9ed9-47ec-bf5b-8b81f78cd03e",
   "metadata": {
    "tags": []
   },
   "source": [
    "### 2.3 Predict the labels"
   ]
  },
  {
   "cell_type": "code",
   "execution_count": 7,
   "id": "a6316c93-efdc-409a-9b5d-53d91f2f45c3",
   "metadata": {},
   "outputs": [],
   "source": [
    "y_predicted = model.predict(testX)\n"
   ]
  },
  {
   "cell_type": "markdown",
   "id": "9de90cbe-68b1-48b3-8782-79b5614e81d8",
   "metadata": {
    "tags": []
   },
   "source": [
    "## 3. Performance Measures - Calculated with Test Label (testy) & predicted label y_predicted"
   ]
  },
  {
   "cell_type": "code",
   "execution_count": 8,
   "id": "b379e23e-c7c3-48c6-9ca0-c7c99ce379fe",
   "metadata": {},
   "outputs": [],
   "source": [
    "# performance measures\n",
    "from sklearn.metrics import roc_curve, roc_auc_score\n",
    "from sklearn.metrics import precision_recall_curve\n",
    "from sklearn.metrics import confusion_matrix,f1_score,precision_score,recall_score,accuracy_score,average_precision_score"
   ]
  },
  {
   "cell_type": "markdown",
   "id": "0b8d9b38-a303-4c52-9d85-b84279604da7",
   "metadata": {
    "tags": []
   },
   "source": [
    "### 3.1 Confusion Matrix"
   ]
  },
  {
   "cell_type": "code",
   "execution_count": 9,
   "id": "dcd1f8ae-05fd-45d5-8748-ac6b2c216bc4",
   "metadata": {},
   "outputs": [
    {
     "data": {
      "image/png": "[encoded data removed]",
      "text/plain": [
       "<Figure size 640x480 with 1 Axes>"
      ]
     },
     "metadata": {},
     "output_type": "display_data"
    }
   ],
   "source": [
    "confusion_matrix = confusion_matrix(testy, y_predicted)\n",
    "\n",
    "sns.heatmap(confusion_matrix, \n",
    "            annot=True, \n",
    "            fmt='d', \n",
    "            cbar=False, \n",
    "            cmap=\"coolwarm_r\",\n",
    "            xticklabels=labels, \n",
    "            yticklabels=labels,\n",
    "            linewidth = 1)\n",
    "plt.title(\"Confusion Matrix\")\n",
    "plt.xlabel('Predicted Label')\n",
    "plt.ylabel('True Label')\n",
    "plt.show()\n"
   ]
  },
  {
   "cell_type": "markdown",
   "id": "444cdda8-a101-43d2-a06f-5046b6f6d6d4",
   "metadata": {
    "tags": []
   },
   "source": [
    "### 3.2 Accuracy"
   ]
  },
  {
   "cell_type": "code",
   "execution_count": 10,
   "id": "f96d5e62-9a91-461c-bb07-68e976171ba5",
   "metadata": {},
   "outputs": [],
   "source": [
    "accuracy = accuracy_score(testy, y_predicted)"
   ]
  },
  {
   "cell_type": "markdown",
   "id": "cf9de139-85d6-4aa2-8b5e-47b7d078537d",
   "metadata": {
    "tags": []
   },
   "source": [
    "### 3.3 Recall"
   ]
  },
  {
   "cell_type": "code",
   "execution_count": 12,
   "id": "f449397c-cb5e-4baa-afcc-d72f0ffa908e",
   "metadata": {},
   "outputs": [],
   "source": [
    "recall = recall_score(testy,y_predicted)"
   ]
  },
  {
   "cell_type": "markdown",
   "id": "54a3b7f9-1faf-465c-a26f-b284b7c31579",
   "metadata": {
    "tags": []
   },
   "source": [
    "### 3.4 Precision"
   ]
  },
  {
   "cell_type": "code",
   "execution_count": 13,
   "id": "d695e9dc-7e8f-459a-a82e-f94dada4c578",
   "metadata": {},
   "outputs": [],
   "source": [
    "precision = precision_score(testy, y_predicted)"
   ]
  },
  {
   "cell_type": "markdown",
   "id": "aa5b449f-e9ad-4c78-81f5-3f9ebb9bedeb",
   "metadata": {
    "tags": []
   },
   "source": [
    "### 3.5 F1 Score"
   ]
  },
  {
   "cell_type": "code",
   "execution_count": 14,
   "id": "3a1f694b-164e-4c0a-8870-734175acec06",
   "metadata": {},
   "outputs": [],
   "source": [
    "f1 = f1_score(testy, y_predicted)"
   ]
  },
  {
   "cell_type": "markdown",
   "id": "bc6de0c8-e632-451a-abd1-aafdcea2920d",
   "metadata": {},
   "source": [
    "#### 3.6 Print Measurements"
   ]
  },
  {
   "cell_type": "code",
   "execution_count": 15,
   "id": "66a269cb-9642-4628-8fc6-5cd0f44ffd34",
   "metadata": {},
   "outputs": [
    {
     "name": "stdout",
     "output_type": "stream",
     "text": [
      "Performance measurements \n",
      " accuracy  :  0.786 \n",
      " recall    :  0.6 \n",
      " precision :  0.8 \n",
      " f1-score  :  0.686\n"
     ]
    }
   ],
   "source": [
    "print( \"Performance measurements\", \"\\n\",\n",
    "       \"accuracy  : \", round(accuracy,3),\"\\n\",\n",
    "       \"recall    : \", round(recall,3), \"\\n\",\n",
    "       \"precision : \", round(precision,3),\"\\n\",\n",
    "       \"f1-score  : \", round(f1,3))"
   ]
  },
  {
   "cell_type": "markdown",
   "id": "2151caf9-fd6f-47bb-b0f7-174341b71dec",
   "metadata": {},
   "source": [
    "### 4. Performance Curves"
   ]
  },
  {
   "cell_type": "markdown",
   "id": "b6594949-7c98-4f0a-bc0a-a304d28c6c79",
   "metadata": {},
   "source": [
    "#### 4.1 Reciever Operating Characteristic Curve"
   ]
  }
 ],
 "metadata": {
  "kernelspec": {
   "display_name": "Python 3 (ipykernel)",
   "language": "python",
   "name": "python3"
  },
  "language_info": {
   "codemirror_mode": {
    "name": "ipython",
    "version": 3
   },
   "file_extension": ".py",
   "mimetype": "text/x-python",
   "name": "python",
   "nbconvert_exporter": "python",
   "pygments_lexer": "ipython3",
   "version": "3.10.6"
  }
 },
 "nbformat": 4,
 "nbformat_minor": 5
}
